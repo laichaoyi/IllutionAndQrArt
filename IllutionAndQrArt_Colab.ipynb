{
  "nbformat": 4,
  "nbformat_minor": 0,
  "metadata": {
    "colab": {
      "provenance": [],
      "gpuType": "T4",
      "authorship_tag": "ABX9TyMqzkazh9qWMXeB0x2HXIvD",
      "include_colab_link": true
    },
    "kernelspec": {
      "name": "python3",
      "display_name": "Python 3"
    },
    "language_info": {
      "name": "python"
    },
    "accelerator": "GPU"
  },
  "cells": [
    {
      "cell_type": "markdown",
      "metadata": {
        "id": "view-in-github",
        "colab_type": "text"
      },
      "source": [
        "<a href=\"https://colab.research.google.com/drive/1ajwUvDUo-qgrUbqHSpBJdCdPUr1torpv#scrollTo=roWH6Nonugw_" target=\"_parent\"><img src=\"https://colab.research.google.com/assets/colab-badge.svg\" alt=\"Open In Colab\"/></a>"
      ]
    },
   
    {
      "cell_type": "markdown",
      "source": [
        "Tool tạo mã QR code AI mã nguồn mở\n",
        "\n",
        "Mọi chi tiết xin truy cập group AI trên facebook [Facebook/HVAI](https://www.facebook.com/groups/hvaisd)\n",
        "\n",
        "Truy cập tool qua link sau [>>LINK<<](https://colab.research.google.com/drive/1ajwUvDUo-qgrUbqHSpBJdCdPUr1torpva)"
      ],
      "metadata": {
        "id": "ElZGF8Ib8USX"
      }
    },
    {
      "cell_type": "code",
      "execution_count": null,
      "metadata": {
        "id": "roWH6Nonugw_",
        "cellView": "form"
      },
      "outputs": [],
      "source": [
        "#@markdown # 1. CÀI ĐẶT TOOL\n",
        "from IPython.display import clear_output\n",
        "from IPython.display import Javascript\n",
        "import ipywidgets as widgets\n",
        "display(Javascript('''google.colab.output.setIframeHeight(0, true, {maxHeight: 200})'''))\n",
        "def inf(msg, style, wdth): inf = widgets.Button(description=msg, disabled=True, button_style=style, layout=widgets.Layout(min_width=wdth));display(inf)\n",
        "%env TF_CPP_MIN_LOG_LEVEL=1\n",
        "!wget https://github.com/camenduru/gperftools/releases/download/v1.0/libtcmalloc_minimal.so.4 -O /content/libtcmalloc_minimal.so.4\n",
        "\n",
        "%env LD_PRELOAD=/content/libtcmalloc_minimal.so.4\n",
        "!pip install transformers diffusers numpy torch accelerate gradio\n",
        "!git clone https://github.com/laichaoyi/IllutionAndQrArt\n",
        "!wget https://huggingface.co/cyberdelia/CyberRealistic/resolve/main/CyberRealistic_V4.1_FP16.safetensors\n",
        "!wget https://huggingface.co/monster-labs/control_v1p_sd15_qrcode_monster/resolve/main/control_v1p_sd15_qrcode_monster.safetensors\n",
        "clear_output()\n",
        "inf('\\u2714 Done','success', '50px')"
      ]
    },
    {
      "cell_type": "code",
      "source": [
        "#@markdown # 2. CHẠY CHƯƠNG TRÌNH\n",
        "from IPython.display import Javascript\n",
        "display(Javascript('''google.colab.output.setIframeHeight(0, true, {maxHeight: 200})'''))\n",
        "!python /content/PromptAlchemist_IllutionAndQrArt_Colab/app.py"
      ],
      "metadata": {
        "cellView": "form",
        "id": "caJyvL6Zuol5"
      },
      "execution_count": null,
      "outputs": []
    }
  ]
}
